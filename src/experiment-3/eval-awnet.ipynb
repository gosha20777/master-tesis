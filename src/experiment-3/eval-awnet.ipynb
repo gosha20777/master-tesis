{
 "cells": [
  {
   "cell_type": "code",
   "execution_count": 1,
   "id": "d8ad453b",
   "metadata": {},
   "outputs": [],
   "source": [
    "import torch\n",
    "import torch.nn as nn\n",
    "from models.awnet import AWNet\n",
    "from utils.dataset import LoadData\n",
    "from torch.utils.data import DataLoader\n",
    "from config import trainConfig\n",
    "import numpy as np\n",
    "import imageio\n",
    "import PIL.Image as Image\n",
    "import time\n",
    "import os\n",
    "from utils.utils import validation"
   ]
  },
  {
   "cell_type": "code",
   "execution_count": 2,
   "id": "ba0f4490",
   "metadata": {},
   "outputs": [],
   "source": [
    "class Model(nn.Module):\n",
    "    def __init__(self):\n",
    "        super().__init__()\n",
    "        self.module = AWNet(4, 3, block=[3, 3, 3, 4, 4])\n",
    "\n",
    "    def forward(self, x):\n",
    "        return self.module(x)"
   ]
  },
  {
   "cell_type": "code",
   "execution_count": 3,
   "id": "90bb768c",
   "metadata": {},
   "outputs": [
    {
     "name": "stdout",
     "output_type": "stream",
     "text": [
      "CUDA visible devices: 1\n",
      "CUDA Device Name: NVIDIA GeForce RTX 2080 Ti\n",
      "weight loaded.\n"
     ]
    }
   ],
   "source": [
    "config = trainConfig(\n",
    "        lr=[1e-4, 5e-5, 1e-5, 5e-6, 1e-6],\n",
    "        batch_size=2,\n",
    "        epoch=50,\n",
    "        print_loss=False,\n",
    "        pretrain=True,\n",
    "        data_dir='./data',\n",
    "        weights_dir='./weights'\n",
    "    )\n",
    "device = torch.device(\"cuda:0\" if torch.cuda.is_available() else \"cpu\")\n",
    "print(\"CUDA visible devices: \" + str(torch.cuda.device_count()))\n",
    "print(\"CUDA Device Name: \" + str(torch.cuda.get_device_name(device)))\n",
    "\n",
    "net = Model().to(device)\n",
    "\n",
    "net.load_state_dict(\n",
    "        torch.load('{}/weight_best.pkl'.format(config.weights_dir), map_location=device)[\"model_state\"])\n",
    "\n",
    "print('weight loaded.')"
   ]
  },
  {
   "cell_type": "code",
   "execution_count": 4,
   "id": "6b8d7658",
   "metadata": {},
   "outputs": [
    {
     "name": "stdout",
     "output_type": "stream",
     "text": [
      "Number test of samples: 1204\n",
      "data/test/huawei_raw/0.png | data/test/canon/0.jpg\n",
      "data/test/huawei_raw/1.png | data/test/canon/1.jpg\n",
      "data/test/huawei_raw/10.png | data/test/canon/10.jpg\n",
      "data/test/huawei_raw/100.png | data/test/canon/100.jpg\n",
      "data/test/huawei_raw/1000.png | data/test/canon/1000.jpg\n",
      "data/test/huawei_raw/1001.png | data/test/canon/1001.jpg\n",
      "data/test/huawei_raw/1002.png | data/test/canon/1002.jpg\n",
      "data/test/huawei_raw/1003.png | data/test/canon/1003.jpg\n",
      "data/test/huawei_raw/1004.png | data/test/canon/1004.jpg\n",
      "data/test/huawei_raw/1005.png | data/test/canon/1005.jpg\n"
     ]
    }
   ],
   "source": [
    "test_input_dir = \"data/test/huawei_raw\"\n",
    "test_target_dir = \"data/test/canon\"\n",
    "img_size = (224, 224)\n",
    "dlsr_scale = 2\n",
    "input_channels = 4\n",
    "output_channels = 3\n",
    "batch_size = 8\n",
    "\n",
    "\n",
    "test_input_img_paths = sorted(\n",
    "    [\n",
    "        os.path.join(test_input_dir, fname)\n",
    "        for fname in os.listdir(test_input_dir)\n",
    "        if fname.endswith(\".png\")\n",
    "    ]\n",
    ")\n",
    "test_target_img_paths = sorted(\n",
    "    [\n",
    "        os.path.join(test_target_dir, fname)\n",
    "        for fname in os.listdir(test_target_dir)\n",
    "        if fname.endswith(\".jpg\")\n",
    "    ]\n",
    ")\n",
    "\n",
    "\n",
    "print(\"Number test of samples:\", len(test_input_img_paths))\n",
    "\n",
    "for input_path, target_path in zip(test_input_img_paths[:10], test_target_img_paths[:10]):\n",
    "    print(input_path, \"|\", target_path)"
   ]
  },
  {
   "cell_type": "code",
   "execution_count": 15,
   "id": "0bd987ea",
   "metadata": {},
   "outputs": [],
   "source": [
    "test_gen = LoadData(\n",
    "    img_size, dlsr_scale, test_input_img_paths, test_target_img_paths\n",
    ")\n",
    "test_loader = DataLoader(\n",
    "        dataset=test_gen,\n",
    "        batch_size=16,\n",
    "        shuffle=False,\n",
    "        num_workers=16,\n",
    "        pin_memory=True,\n",
    "        drop_last=False\n",
    ")"
   ]
  },
  {
   "cell_type": "code",
   "execution_count": 16,
   "id": "e810188d",
   "metadata": {},
   "outputs": [
    {
     "name": "stdout",
     "output_type": "stream",
     "text": [
      "PSNR: 21.4198, SSIM: 0.7484\n"
     ]
    }
   ],
   "source": [
    "val_psnr, val_ssim = validation(\n",
    "        net, \n",
    "        test_loader, \n",
    "        device, \n",
    "        save_tag=True\n",
    "    )\n",
    "print('PSNR: {:.4f}, SSIM: {:.4f}'.format(\n",
    "        val_psnr, val_ssim))"
   ]
  }
 ],
 "metadata": {
  "kernelspec": {
   "display_name": "Python 3 (ipykernel)",
   "language": "python",
   "name": "python3"
  },
  "language_info": {
   "codemirror_mode": {
    "name": "ipython",
    "version": 3
   },
   "file_extension": ".py",
   "mimetype": "text/x-python",
   "name": "python",
   "nbconvert_exporter": "python",
   "pygments_lexer": "ipython3",
   "version": "3.10.4"
  }
 },
 "nbformat": 4,
 "nbformat_minor": 5
}
